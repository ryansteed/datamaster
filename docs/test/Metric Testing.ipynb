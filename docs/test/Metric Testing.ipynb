{
 "cells": [
  {
   "cell_type": "markdown",
   "metadata": {},
   "source": [
    "# Metric Testing\n",
    "Construct custom network and test [defined metrics](../docs/30Oct18.md).\n",
    "\n",
    "Then construct larger sample network and test metrics."
   ]
  },
  {
   "cell_type": "code",
   "execution_count": 1,
   "metadata": {},
   "outputs": [],
   "source": [
    "import networkx as nx\n",
    "import matplotlib.pyplot as plt\n",
    "import numpy as np"
   ]
  },
  {
   "cell_type": "markdown",
   "metadata": {},
   "source": [
    "## Sample Network From Persistence Paper (Matinelli et al.)"
   ]
  },
  {
   "cell_type": "markdown",
   "metadata": {},
   "source": [
    "### Network"
   ]
  },
  {
   "cell_type": "code",
   "execution_count": 2,
   "metadata": {},
   "outputs": [
    {
     "data": {
      "image/png": "[encoded data removed]",
      "text/plain": [
       "<Figure size 432x288 with 1 Axes>"
      ]
     },
     "metadata": {},
     "output_type": "display_data"
    }
   ],
   "source": [
    "# network where link represents relation R, where x R y implies that y cites x\n",
    "G = nx.DiGraph()\n",
    "G.add_nodes_from(['a','b','c','d','e','f','i','g','h'])\n",
    "G.add_edges_from([('a','f'),('f','i'),('f','h'),('b','g'),('c','g'),('d','g'),('e','h'),('g','h')])\n",
    "nx.draw_networkx(G, pos=nx.spring_layout(G))"
   ]
  },
  {
   "cell_type": "markdown",
   "metadata": {},
   "source": [
    "### Weighting Indices\n",
    "Calculate the weighting indices for each node in the network."
   ]
  },
  {
   "cell_type": "markdown",
   "metadata": {},
   "source": [
    "#### Quality Indicators\n",
    "- Forward cites\n",
    "- Backward cites\n",
    "- Claims\n",
    "- Family size"
   ]
  },
  {
   "cell_type": "code",
   "execution_count": 3,
   "metadata": {},
   "outputs": [
    {
     "data": {
      "text/plain": [
       "[('a', 1),\n",
       " ('b', 1),\n",
       " ('c', 1),\n",
       " ('d', 1),\n",
       " ('e', 1),\n",
       " ('f', 2),\n",
       " ('i', 0),\n",
       " ('g', 1),\n",
       " ('h', 0)]"
      ]
     },
     "execution_count": 3,
     "metadata": {},
     "output_type": "execute_result"
    }
   ],
   "source": [
    "in_degrees = {node: int(in_degree*(len(G)-1)) for node, in_degree in nx.out_degree_centrality(G).items()}\n",
    "\n",
    "nx.set_node_attributes(G, in_degrees, 'forward_cites')\n",
    "[(node, G.nodes[node]['forward_cites']) for node in G]"
   ]
  },
  {
   "cell_type": "code",
   "execution_count": 4,
   "metadata": {},
   "outputs": [
    {
     "data": {
      "text/plain": [
       "[('a', 0),\n",
       " ('b', 0),\n",
       " ('c', 0),\n",
       " ('d', 0),\n",
       " ('e', 0),\n",
       " ('f', 1),\n",
       " ('i', 1),\n",
       " ('g', 3),\n",
       " ('h', 3)]"
      ]
     },
     "execution_count": 4,
     "metadata": {},
     "output_type": "execute_result"
    }
   ],
   "source": [
    "in_degrees = {node: int(in_degree*(len(G)-1)) for node, in_degree in nx.in_degree_centrality(G).items()}\n",
    "\n",
    "nx.set_node_attributes(G, in_degrees, 'backward_cites')\n",
    "[(node, G.nodes[node]['backward_cites']) for node in G]"
   ]
  },
  {
   "cell_type": "code",
   "execution_count": 5,
   "metadata": {},
   "outputs": [
    {
     "data": {
      "text/plain": [
       "[('a', 2),\n",
       " ('b', 6),\n",
       " ('c', 1),\n",
       " ('d', 6),\n",
       " ('e', 1),\n",
       " ('f', 3),\n",
       " ('i', 4),\n",
       " ('g', 3),\n",
       " ('h', 0)]"
      ]
     },
     "execution_count": 5,
     "metadata": {},
     "output_type": "execute_result"
    }
   ],
   "source": [
    "# Placeholder values for family size\n",
    "family_size = {node: int(np.random.normal(3,2)) for node in G}\n",
    "\n",
    "nx.set_node_attributes(G, family_size, 'family_size')\n",
    "[(node, G.nodes[node]['family_size']) for node in G]"
   ]
  },
  {
   "cell_type": "code",
   "execution_count": 6,
   "metadata": {},
   "outputs": [
    {
     "data": {
      "text/plain": [
       "[('a', 2),\n",
       " ('b', 2),\n",
       " ('c', 3),\n",
       " ('d', 2),\n",
       " ('e', 2),\n",
       " ('f', 2),\n",
       " ('i', 1),\n",
       " ('g', 2),\n",
       " ('h', 2)]"
      ]
     },
     "execution_count": 6,
     "metadata": {},
     "output_type": "execute_result"
    }
   ],
   "source": [
    "# Placeholder values for claims\n",
    "num_claims = {node: int(np.random.normal(2.5, 0.5)) for node in G}\n",
    "nx.set_node_attributes(G, num_claims, 'num_claims')\n",
    "\n",
    "[(node, G.nodes[node]['num_claims']) for node in G]"
   ]
  },
  {
   "cell_type": "markdown",
   "metadata": {},
   "source": [
    "#### H-index\n",
    "The h-index of a given node is the h-index of its forward citations."
   ]
  },
  {
   "cell_type": "code",
   "execution_count": 7,
   "metadata": {},
   "outputs": [],
   "source": [
    "# h-index calculation\n",
    "def h_index(m):\n",
    "    s = [0]*(len(m)+1)\n",
    "    for i in range(len(m)):\n",
    "        s[min([len(m), m[i]])] += 1\n",
    "    x = 0\n",
    "    for i in reversed(range(len(s))):\n",
    "        x += s[i]\n",
    "        if x >= i:\n",
    "            return i\n",
    "    return 0"
   ]
  },
  {
   "cell_type": "code",
   "execution_count": 8,
   "metadata": {},
   "outputs": [
    {
     "data": {
      "text/plain": [
       "[('a', 1),\n",
       " ('b', 1),\n",
       " ('c', 1),\n",
       " ('d', 1),\n",
       " ('e', 1),\n",
       " ('f', 2),\n",
       " ('i', 0),\n",
       " ('g', 1),\n",
       " ('h', 0)]"
      ]
     },
     "execution_count": 8,
     "metadata": {},
     "output_type": "execute_result"
    }
   ],
   "source": [
    "h_indices = {}\n",
    "for node in G:\n",
    "    forward_cites = [G.nodes[node]['forward_cites'] for child in G.successors(node)]\n",
    "    h_indices[node] = h_index(forward_cites)\n",
    "    \n",
    "nx.set_node_attributes(G, h_indices, 'h_index')\n",
    "\n",
    "[(node, G.nodes[node]['h_index']) for node in G]"
   ]
  },
  {
   "cell_type": "markdown",
   "metadata": {},
   "source": [
    "#### Centrality measure\n",
    "Given centrality measures $C$:\n",
    "- $C_1$ is degree centrality\n",
    "- $C_2$ is betweenness centrality\n",
    "- $C_3$ is eigenvector centrality\n",
    "- $C_4$ is closeness centrality\n",
    "\n",
    "Where $N$ is the set of all nodes:\n",
    "$$C_x^+ = Max(C_x(i))$$\n",
    "$$C_x^- = Min(C_x(i))$$\n",
    "$$Var(X) = \\frac{\\sum_{i=1}^n (X_i - \\bar{X})^2}{n}$$\n",
    "$$Var_T = \\sum_{x=1}^4 Var(C_x)$$\n",
    "$$W_x = \\frac{Var(C_x)}{Var_T}$$\n",
    "$$S^+(i) = \\sqrt{\\sum_{x=1}^4 W_x(C_x(i)-C_x^+)^2}$$\n",
    "$$S^-(i) = \\sqrt{\\sum_{x=1}^4 W_x(C_x(i)-C_x^-)^2}$$\n",
    "$$C(i) = \\frac{S^-(i)}{S^+(i) + S^-(i)}$$"
   ]
  },
  {
   "cell_type": "code",
   "execution_count": 9,
   "metadata": {},
   "outputs": [
    {
     "data": {
      "text/plain": [
       "[('a', 0.20518999675488722),\n",
       " ('b', 0.20518999675478064),\n",
       " ('c', 0.20518999675453126),\n",
       " ('d', 0.20518999675453292),\n",
       " ('e', 0.20518999675481212),\n",
       " ('f', 0.20498362225156008),\n",
       " ('i', 0.17430378760642137),\n",
       " ('g', 0.20718424793874793),\n",
       " ('h', 0.32689689432975927)]"
      ]
     },
     "execution_count": 9,
     "metadata": {},
     "output_type": "execute_result"
    }
   ],
   "source": [
    "# For each centrality, need:\n",
    "# - Maximum\n",
    "# - Minimum\n",
    "# - Variance ratio\n",
    "\n",
    "c = {\n",
    "    '+': [],\n",
    "    '-': [],\n",
    "    'var': [],\n",
    "    'c': []\n",
    "}\n",
    "custom_centralities = {}\n",
    "\n",
    "# Centralities\n",
    "centralities = [\n",
    "    nx.degree_centrality(G),\n",
    "    nx.betweenness_centrality(G),\n",
    "    nx.eigenvector_centrality_numpy(G),\n",
    "    nx.closeness_centrality(G)\n",
    "]\n",
    "## Local vals\n",
    "for centrality in centralities:\n",
    "    c['+'].append(centrality[max(centrality, key=centrality.get)])\n",
    "    c['-'].append(centrality[min(centrality, key=centrality.get)])\n",
    "    c['var'].append(np.var([val for key, val in centrality.items()]))\n",
    "## Centrality metric\n",
    "var_t = sum(c['var'])\n",
    "for node in G:\n",
    "    s_max = np.sqrt(\n",
    "        np.sum(\n",
    "            [\n",
    "                c['var'][i]*(centralities[i][node] - c['+'][i] / var_t)**2 \n",
    "                for i in range(len(centralities))\n",
    "            ]\n",
    "        )\n",
    "    )\n",
    "    s_min = np.sqrt(\n",
    "        np.sum(\n",
    "            [\n",
    "                c['var'][i]*(centralities[i][node] - c['-'][i] / var_t)**2 \n",
    "                for i in range(len(centralities))\n",
    "            ]\n",
    "        )\n",
    "    )\n",
    "    custom_centralities[node] = s_min / (s_max + s_min)\n",
    "\n",
    "nx.set_node_attributes(G, custom_centralities, 'custom_centrality')\n",
    "\n",
    "[(node, G.nodes[node]['custom_centrality']) for node in G]"
   ]
  },
  {
   "cell_type": "markdown",
   "metadata": {},
   "source": [
    "### Decomposition\n",
    "Where $B$ is one of the weighting indices above:\n",
    "$$K_i(root) = \\frac{B_i}{p(i, root)} + \\sum_{j=1}^{nciting} k_{i+1,j}$$\n",
    "\n",
    "Note that the function $p(i, root)$ is the persistence index with respect to the root node being evaluated. $p(root, root) = 1$, but in all other cases $p(i, root) = ncited_i$.\n",
    "\n",
    "Thus the knowledge contribution of some root node $r$ is simply:\n",
    "$$K_r = K_i(r)$$"
   ]
  },
  {
   "cell_type": "code",
   "execution_count": 31,
   "metadata": {},
   "outputs": [
    {
     "name": "stdout",
     "output_type": "stream",
     "text": [
      "node a\n",
      "> w:  0.20518999675488722\n",
      "> p:  1\n",
      "> k:  0.6934430380561217\n"
     ]
    },
    {
     "data": {
      "text/plain": [
       "0.6934430380561217"
      ]
     },
     "execution_count": 31,
     "metadata": {},
     "output_type": "execute_result"
    }
   ],
   "source": [
    "## first, find k without the persistence index\n",
    "\n",
    "def k(root, node, weighting_key, verbose=False):\n",
    "    sum_children = 0\n",
    "    for child in G.successors(node):\n",
    "        sum_children += k(root, child, weighting_key)\n",
    "    total_k = (G.nodes[node][weighting_key] + sum_children) * p(root, node)\n",
    "    if verbose:\n",
    "        print('node', node)\n",
    "        print('> w: ', G.nodes[node][weighting_key])\n",
    "        print('> p: ', p(root, node))\n",
    "        print('> k: ', total_k)\n",
    "    return total_k\n",
    "\n",
    "def p(root, node):\n",
    "    return 1 if node == root else 1 /  G.in_degree(node)\n",
    "\n",
    "k('a', 'a', 'custom_centrality', verbose=True)"
   ]
  },
  {
   "cell_type": "code",
   "execution_count": 32,
   "metadata": {},
   "outputs": [
    {
     "data": {
      "text/plain": [
       "[('a', 0.6934430380561217),\n",
       " ('b', 0.3105732898821143),\n",
       " ('c', 0.31057328988186494),\n",
       " ('d', 0.3105732898818666),\n",
       " ('e', 0.3141556281980652),\n",
       " ('f', 0.48825304130123454),\n",
       " ('i', 0.17430378760642137),\n",
       " ('g', 0.316149879382001),\n",
       " ('h', 0.32689689432975927)]"
      ]
     },
     "execution_count": 32,
     "metadata": {},
     "output_type": "execute_result"
    }
   ],
   "source": [
    "knowledge = {node: k(node, node, 'custom_centrality') for node in G.nodes}\n",
    "nx.set_node_attributes(G, knowledge, 'knowledge')\n",
    "[(node, G.nodes[node]['knowledge']) for node in G]"
   ]
  },
  {
   "cell_type": "code",
   "execution_count": null,
   "metadata": {},
   "outputs": [],
   "source": []
  },
  {
   "cell_type": "code",
   "execution_count": null,
   "metadata": {},
   "outputs": [],
   "source": []
  }
 ],
 "metadata": {
  "kernelspec": {
   "display_name": "Python 3",
   "language": "python",
   "name": "python3"
  },
  "language_info": {
   "codemirror_mode": {
    "name": "ipython",
    "version": 3
   },
   "file_extension": ".py",
   "mimetype": "text/x-python",
   "name": "python",
   "nbconvert_exporter": "python",
   "pygments_lexer": "ipython3",
   "version": "3.6.5"
  }
 },
 "nbformat": 4,
 "nbformat_minor": 2
}
